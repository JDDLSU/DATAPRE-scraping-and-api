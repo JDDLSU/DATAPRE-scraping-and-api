{
 "cells": [
  {
   "cell_type": "code",
   "execution_count": 1,
   "metadata": {
    "executionInfo": {
     "elapsed": 4,
     "status": "ok",
     "timestamp": 1652419229154,
     "user": {
      "displayName": "Rollo Denzel Velarde",
      "userId": "09158605868374711008"
     },
     "user_tz": -480
    },
    "id": "1brIgyDFA90A"
   },
   "outputs": [],
   "source": [
    "import requests\n",
    "import pandas as pd\n",
    "from datetime import datetime\n",
    "URL=\"https://bulbapedia.bulbagarden.net/wiki/List_of_Pok%C3%A9mon_by_National_Pok%C3%A9dex_number\""
   ]
  },
  {
   "cell_type": "code",
   "execution_count": 2,
   "metadata": {
    "executionInfo": {
     "elapsed": 9,
     "status": "ok",
     "timestamp": 1652419232024,
     "user": {
      "displayName": "Rollo Denzel Velarde",
      "userId": "09158605868374711008"
     },
     "user_tz": -480
    },
    "id": "PC5Iabl1Ce6C"
   },
   "outputs": [],
   "source": [
    "page=requests.get(URL)"
   ]
  },
  {
   "cell_type": "code",
   "execution_count": 3,
   "metadata": {
    "executionInfo": {
     "elapsed": 1318,
     "status": "ok",
     "timestamp": 1652419236022,
     "user": {
      "displayName": "Rollo Denzel Velarde",
      "userId": "09158605868374711008"
     },
     "user_tz": -480
    },
    "id": "kZoZjECYEbIm"
   },
   "outputs": [],
   "source": [
    "from bs4 import BeautifulSoup\n",
    "\n",
    "soup = BeautifulSoup(page.content, 'html.parser')"
   ]
  },
  {
   "cell_type": "code",
   "execution_count": 4,
   "metadata": {
    "executionInfo": {
     "elapsed": 4,
     "status": "ok",
     "timestamp": 1652419238690,
     "user": {
      "displayName": "Rollo Denzel Velarde",
      "userId": "09158605868374711008"
     },
     "user_tz": -480
    },
    "id": "kLvS78ZPDfLQ"
   },
   "outputs": [],
   "source": [
    "poke_content=soup.find(id='mw-content-text')\n",
    "\n",
    "poke_tables=poke_content.find_all('table')"
   ]
  },
  {
   "cell_type": "code",
   "execution_count": 5,
   "metadata": {
    "executionInfo": {
     "elapsed": 380,
     "status": "ok",
     "timestamp": 1652419246399,
     "user": {
      "displayName": "Rollo Denzel Velarde",
      "userId": "09158605868374711008"
     },
     "user_tz": -480
    },
    "id": "3ti1udFpD0b7"
   },
   "outputs": [],
   "source": [
    "def generate_pd(select_generation):\n",
    "    gen_list=poke_tables[select_generation]\n",
    "    poke_info=gen_list.contents[1]    \n",
    "    info_start = 1\n",
    "    now = datetime.now()\n",
    "    scrapetime = now.strftime(\"%d/%m/%Y %H:%M:%S\")\n",
    "# place where to get the pokemon info\n",
    "    info_row=gen_list.contents[info_start]\n",
    "\n",
    "    for pokemon_info_values, even_index_chec in zip(info_row.contents, range(0,len(info_row.contents))):\n",
    "    # Pokemons' values are stored in even index (divisible by 2 and is not 0)\n",
    "      if ((even_index_chec % 2) == 0) & (even_index_chec != 0) :\n",
    "        pokemon_raw_info = pokemon_info_values.text.strip().split('\\n')\n",
    "\n",
    "        \n",
    "        ## Pokemons that are other regional forms and has 1 type\n",
    "        if len(pokemon_raw_info) == 7:\n",
    "            ldex = pokemon_raw_info[0]\n",
    "            ndex = pokemon_raw_info[1]\n",
    "            poke_name = pokemon_raw_info[4]\n",
    "            type1 = pokemon_raw_info[6]\n",
    "            type2 = ''\n",
    "            categ = 'Other Form Single Type'\n",
    "            gen = select_generation\n",
    "            st = scrapetime\n",
    "#             print(kdex,ndex,poke_name, type1,type2)\n",
    "#             print(pokemon_info_values.text.strip().split('\\n'))\n",
    "#             print('####')\n",
    "\n",
    "        ## Pokemons that are other regional forms and has 2 types\n",
    "        elif len(pokemon_raw_info) == 8:\n",
    "            ldex = pokemon_raw_info[0]\n",
    "            ndex = pokemon_raw_info[1]\n",
    "            poke_name = pokemon_raw_info[4]\n",
    "            type1 = pokemon_raw_info[6]\n",
    "            type2 = pokemon_raw_info[7]\n",
    "            categ = 'Other Form Multi Type'\n",
    "            gen = select_generation\n",
    "            st = scrapetime\n",
    "#             print(kdex,ndex,poke_name, type1,type2)\n",
    "#             print(pokemon_info_values.text.strip().split('\\n'))\n",
    "#             print('####')\n",
    "\n",
    "        ## Orig pokemon list with single typing\n",
    "        elif len(pokemon_raw_info) == 9:\n",
    "            ldex = pokemon_raw_info[0]\n",
    "            ndex = pokemon_raw_info[2]\n",
    "            poke_name = pokemon_raw_info[6]\n",
    "            type1 = pokemon_raw_info[8]\n",
    "            type2 = ''\n",
    "            categ = 'Orig Form Single Type'\n",
    "            gen = select_generation\n",
    "            st = scrapetime\n",
    "#             print(kdex,ndex,poke_name, type1,type2)\n",
    "#             print(pokemon_info_values.text.strip().split('\\n'))\n",
    "#             print('####')\n",
    "\n",
    "\n",
    "        # Orig pokemon list with multiple typing\n",
    "        elif len(pokemon_raw_info) == 10:\n",
    "            ldex = pokemon_raw_info[0]\n",
    "            ndex = pokemon_raw_info[2]\n",
    "            poke_name = pokemon_raw_info[6]\n",
    "            type1 = pokemon_raw_info[8]\n",
    "            type2 = pokemon_raw_info[9]\n",
    "            categ = 'Orig Form Multi Type'\n",
    "            gen = select_generation\n",
    "            st = scrapetime\n",
    "#             print(kdex,ndex,poke_name, type1,type2)\n",
    "#             print(pokemon_info_values.text.strip().split('\\n'))\n",
    "#             print('####')\n",
    "\n",
    "        else:\n",
    "            print('Check out elements containing ' + str(len(pokemon_raw_info)) + ' elements')\n",
    "        \n",
    "        # Saving as a tuple\n",
    "        extracted_poke_info.append((ldex, ndex, poke_name, type1, type2, categ, gen, st))\n",
    "        \n",
    "    \n",
    "    else:\n",
    "        pass\n",
    "\n",
    "    \n",
    "    #print(pokemon_info_values)"
   ]
  },
  {
   "cell_type": "code",
   "execution_count": 6,
   "metadata": {
    "executionInfo": {
     "elapsed": 371,
     "status": "ok",
     "timestamp": 1652419309658,
     "user": {
      "displayName": "Rollo Denzel Velarde",
      "userId": "09158605868374711008"
     },
     "user_tz": -480
    },
    "id": "TkB_uWyMX9f7"
   },
   "outputs": [],
   "source": [
    "def generate_json(select_generation):\n",
    "    generate_pd(select_generation)\n",
    "    df_pokemon_list = pd.DataFrame(extracted_poke_info)\n",
    "    df_pokemon_list.columns = ['Ldex', 'Ndex', 'Pokemon', 'Type 1', 'Type 2', 'Category', 'Generation', 'Scrape Time']\n",
    "    print(df_pokemon_list)\n",
    "    df_pokemon_list.to_json('Dy_Velarde_pokemon.json',orient='index')"
   ]
  },
  {
   "cell_type": "code",
   "execution_count": 7,
   "metadata": {
    "colab": {
     "base_uri": "https://localhost:8080/",
     "height": 901
    },
    "executionInfo": {
     "elapsed": 22,
     "status": "ok",
     "timestamp": 1652419318419,
     "user": {
      "displayName": "Rollo Denzel Velarde",
      "userId": "09158605868374711008"
     },
     "user_tz": -480
    },
    "id": "0JuhOVe0bXEX",
    "outputId": "0a781a00-cc17-43cc-ffd3-d12880a8f946"
   },
   "outputs": [
    {
     "name": "stdout",
     "output_type": "stream",
     "text": [
      "     Ldex  Ndex    Pokemon   Type 1  Type 2               Category  \\\n",
      "0    #001  #152  Chikorita    Grass          Orig Form Single Type   \n",
      "1    #002  #153    Bayleef    Grass          Orig Form Single Type   \n",
      "2    #003  #154   Meganium    Grass          Orig Form Single Type   \n",
      "3    #004  #155  Cyndaquil     Fire          Orig Form Single Type   \n",
      "4    #005  #156    Quilava     Fire          Orig Form Single Type   \n",
      "..    ...   ...        ...      ...     ...                    ...   \n",
      "100  #250  #247    Pupitar     Rock  Ground   Orig Form Multi Type   \n",
      "101  #251  #248  Tyranitar     Rock    Dark   Orig Form Multi Type   \n",
      "102  #252  #249      Lugia  Psychic  Flying   Orig Form Multi Type   \n",
      "103  #253  #250      Ho-Oh     Fire  Flying   Orig Form Multi Type   \n",
      "104  #256  #251     Celebi  Psychic   Grass   Orig Form Multi Type   \n",
      "\n",
      "     Generation          Scrape Time  \n",
      "0             2  17/05/2022 04:04:08  \n",
      "1             2  17/05/2022 04:04:08  \n",
      "2             2  17/05/2022 04:04:08  \n",
      "3             2  17/05/2022 04:04:08  \n",
      "4             2  17/05/2022 04:04:08  \n",
      "..          ...                  ...  \n",
      "100           2  17/05/2022 04:04:08  \n",
      "101           2  17/05/2022 04:04:08  \n",
      "102           2  17/05/2022 04:04:08  \n",
      "103           2  17/05/2022 04:04:08  \n",
      "104           2  17/05/2022 04:04:08  \n",
      "\n",
      "[105 rows x 8 columns]\n"
     ]
    },
    {
     "data": {
      "text/html": [
       "<div>\n",
       "<style scoped>\n",
       "    .dataframe tbody tr th:only-of-type {\n",
       "        vertical-align: middle;\n",
       "    }\n",
       "\n",
       "    .dataframe tbody tr th {\n",
       "        vertical-align: top;\n",
       "    }\n",
       "\n",
       "    .dataframe thead th {\n",
       "        text-align: right;\n",
       "    }\n",
       "</style>\n",
       "<table border=\"1\" class=\"dataframe\">\n",
       "  <thead>\n",
       "    <tr style=\"text-align: right;\">\n",
       "      <th></th>\n",
       "      <th>Ldex</th>\n",
       "      <th>Ndex</th>\n",
       "      <th>Pokemon</th>\n",
       "      <th>Type 1</th>\n",
       "      <th>Type 2</th>\n",
       "      <th>Category</th>\n",
       "      <th>Generation</th>\n",
       "      <th>Scrape Time</th>\n",
       "    </tr>\n",
       "  </thead>\n",
       "  <tbody>\n",
       "    <tr>\n",
       "      <th>0</th>\n",
       "      <td>#001</td>\n",
       "      <td>#152</td>\n",
       "      <td>Chikorita</td>\n",
       "      <td>Grass</td>\n",
       "      <td></td>\n",
       "      <td>Orig Form Single Type</td>\n",
       "      <td>2</td>\n",
       "      <td>17/05/2022 04:04:08</td>\n",
       "    </tr>\n",
       "    <tr>\n",
       "      <th>1</th>\n",
       "      <td>#002</td>\n",
       "      <td>#153</td>\n",
       "      <td>Bayleef</td>\n",
       "      <td>Grass</td>\n",
       "      <td></td>\n",
       "      <td>Orig Form Single Type</td>\n",
       "      <td>2</td>\n",
       "      <td>17/05/2022 04:04:08</td>\n",
       "    </tr>\n",
       "    <tr>\n",
       "      <th>2</th>\n",
       "      <td>#003</td>\n",
       "      <td>#154</td>\n",
       "      <td>Meganium</td>\n",
       "      <td>Grass</td>\n",
       "      <td></td>\n",
       "      <td>Orig Form Single Type</td>\n",
       "      <td>2</td>\n",
       "      <td>17/05/2022 04:04:08</td>\n",
       "    </tr>\n",
       "    <tr>\n",
       "      <th>3</th>\n",
       "      <td>#004</td>\n",
       "      <td>#155</td>\n",
       "      <td>Cyndaquil</td>\n",
       "      <td>Fire</td>\n",
       "      <td></td>\n",
       "      <td>Orig Form Single Type</td>\n",
       "      <td>2</td>\n",
       "      <td>17/05/2022 04:04:08</td>\n",
       "    </tr>\n",
       "    <tr>\n",
       "      <th>4</th>\n",
       "      <td>#005</td>\n",
       "      <td>#156</td>\n",
       "      <td>Quilava</td>\n",
       "      <td>Fire</td>\n",
       "      <td></td>\n",
       "      <td>Orig Form Single Type</td>\n",
       "      <td>2</td>\n",
       "      <td>17/05/2022 04:04:08</td>\n",
       "    </tr>\n",
       "    <tr>\n",
       "      <th>...</th>\n",
       "      <td>...</td>\n",
       "      <td>...</td>\n",
       "      <td>...</td>\n",
       "      <td>...</td>\n",
       "      <td>...</td>\n",
       "      <td>...</td>\n",
       "      <td>...</td>\n",
       "      <td>...</td>\n",
       "    </tr>\n",
       "    <tr>\n",
       "      <th>100</th>\n",
       "      <td>#250</td>\n",
       "      <td>#247</td>\n",
       "      <td>Pupitar</td>\n",
       "      <td>Rock</td>\n",
       "      <td>Ground</td>\n",
       "      <td>Orig Form Multi Type</td>\n",
       "      <td>2</td>\n",
       "      <td>17/05/2022 04:04:08</td>\n",
       "    </tr>\n",
       "    <tr>\n",
       "      <th>101</th>\n",
       "      <td>#251</td>\n",
       "      <td>#248</td>\n",
       "      <td>Tyranitar</td>\n",
       "      <td>Rock</td>\n",
       "      <td>Dark</td>\n",
       "      <td>Orig Form Multi Type</td>\n",
       "      <td>2</td>\n",
       "      <td>17/05/2022 04:04:08</td>\n",
       "    </tr>\n",
       "    <tr>\n",
       "      <th>102</th>\n",
       "      <td>#252</td>\n",
       "      <td>#249</td>\n",
       "      <td>Lugia</td>\n",
       "      <td>Psychic</td>\n",
       "      <td>Flying</td>\n",
       "      <td>Orig Form Multi Type</td>\n",
       "      <td>2</td>\n",
       "      <td>17/05/2022 04:04:08</td>\n",
       "    </tr>\n",
       "    <tr>\n",
       "      <th>103</th>\n",
       "      <td>#253</td>\n",
       "      <td>#250</td>\n",
       "      <td>Ho-Oh</td>\n",
       "      <td>Fire</td>\n",
       "      <td>Flying</td>\n",
       "      <td>Orig Form Multi Type</td>\n",
       "      <td>2</td>\n",
       "      <td>17/05/2022 04:04:08</td>\n",
       "    </tr>\n",
       "    <tr>\n",
       "      <th>104</th>\n",
       "      <td>#256</td>\n",
       "      <td>#251</td>\n",
       "      <td>Celebi</td>\n",
       "      <td>Psychic</td>\n",
       "      <td>Grass</td>\n",
       "      <td>Orig Form Multi Type</td>\n",
       "      <td>2</td>\n",
       "      <td>17/05/2022 04:04:08</td>\n",
       "    </tr>\n",
       "  </tbody>\n",
       "</table>\n",
       "<p>105 rows × 8 columns</p>\n",
       "</div>"
      ],
      "text/plain": [
       "     Ldex  Ndex    Pokemon   Type 1  Type 2               Category  \\\n",
       "0    #001  #152  Chikorita    Grass          Orig Form Single Type   \n",
       "1    #002  #153    Bayleef    Grass          Orig Form Single Type   \n",
       "2    #003  #154   Meganium    Grass          Orig Form Single Type   \n",
       "3    #004  #155  Cyndaquil     Fire          Orig Form Single Type   \n",
       "4    #005  #156    Quilava     Fire          Orig Form Single Type   \n",
       "..    ...   ...        ...      ...     ...                    ...   \n",
       "100  #250  #247    Pupitar     Rock  Ground   Orig Form Multi Type   \n",
       "101  #251  #248  Tyranitar     Rock    Dark   Orig Form Multi Type   \n",
       "102  #252  #249      Lugia  Psychic  Flying   Orig Form Multi Type   \n",
       "103  #253  #250      Ho-Oh     Fire  Flying   Orig Form Multi Type   \n",
       "104  #256  #251     Celebi  Psychic   Grass   Orig Form Multi Type   \n",
       "\n",
       "     Generation          Scrape Time  \n",
       "0             2  17/05/2022 04:04:08  \n",
       "1             2  17/05/2022 04:04:08  \n",
       "2             2  17/05/2022 04:04:08  \n",
       "3             2  17/05/2022 04:04:08  \n",
       "4             2  17/05/2022 04:04:08  \n",
       "..          ...                  ...  \n",
       "100           2  17/05/2022 04:04:08  \n",
       "101           2  17/05/2022 04:04:08  \n",
       "102           2  17/05/2022 04:04:08  \n",
       "103           2  17/05/2022 04:04:08  \n",
       "104           2  17/05/2022 04:04:08  \n",
       "\n",
       "[105 rows x 8 columns]"
      ]
     },
     "execution_count": 7,
     "metadata": {},
     "output_type": "execute_result"
    }
   ],
   "source": [
    "#testing\n",
    "extracted_poke_info = []\n",
    "generate_json(2)\n",
    "pd.read_json('Dy_Velarde_pokemon.json', orient='index')"
   ]
  }
 ],
 "metadata": {
  "colab": {
   "collapsed_sections": [],
   "name": "DY_VELARDE_pokemon.ipynb",
   "provenance": []
  },
  "kernelspec": {
   "display_name": "Python 3",
   "language": "python",
   "name": "python3"
  },
  "language_info": {
   "codemirror_mode": {
    "name": "ipython",
    "version": 3
   },
   "file_extension": ".py",
   "mimetype": "text/x-python",
   "name": "python",
   "nbconvert_exporter": "python",
   "pygments_lexer": "ipython3",
   "version": "3.8.8"
  }
 },
 "nbformat": 4,
 "nbformat_minor": 1
}
